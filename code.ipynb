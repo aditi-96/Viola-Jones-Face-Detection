{
 "cells": [
  {
   "cell_type": "markdown",
   "metadata": {
    "id": "YVlFx4KrGtY-"
   },
   "source": [
    "\n",
    "## Importing Libraries\n",
    "---\n",
    "\n"
   ]
  },
  {
   "cell_type": "code",
   "execution_count": 2,
   "metadata": {
    "id": "Hz7QP_4AmS49"
   },
   "outputs": [],
   "source": [
    "import numpy as np\n",
    "import cv2 as cv\n",
    "from matplotlib import pyplot as plt\n",
    "from os import listdir\n",
    "import os\n",
    "from sklearn.model_selection import train_test_split\n",
    "from sklearn.feature_selection import SelectPercentile, f_classif\n",
    "import shutil\n",
    "import math\n",
    "from sklearn import metrics"
   ]
  },
  {
   "cell_type": "markdown",
   "metadata": {
    "id": "mv2fhqzKG6ol"
   },
   "source": [
    "## Loading Training Dataset"
   ]
  },
  {
   "cell_type": "code",
   "execution_count": 2,
   "metadata": {
    "colab": {
     "base_uri": "https://localhost:8080/"
    },
    "id": "RqsC4yIKmS5C",
    "outputId": "813e8987-3c2e-4157-a5fc-3dd9268d45d1"
   },
   "outputs": [
    {
     "name": "stdout",
     "output_type": "stream",
     "text": [
      "(4000, 19, 19)\n",
      "(4000,)\n"
     ]
    }
   ],
   "source": [
    "#Get image paths\n",
    "#pPath='../dataset/ViolaJones/Face'\n",
    "#nPath='../dataset/ViolaJones/NonFace'\n",
    "pPath='faces/face.train/train/face'\n",
    "nPath='faces/face.train/train/non-face'\n",
    "\n",
    "resizedShape=(19,19)\n",
    "\n",
    "pImagePath=[]\n",
    "pImages=[]\n",
    "\n",
    "count=0\n",
    "for file in listdir(pPath):\n",
    "    joinedPath=os.path.join(pPath,file)\n",
    "    if(os.path.isfile(joinedPath)):\n",
    "        count+=1\n",
    "        pImagePath.append(joinedPath)\n",
    "        img=cv.imread(joinedPath, 0)\n",
    "        img=cv.resize(img, resizedShape)\n",
    "        pImages.append(img)\n",
    "        if(count==2000):\n",
    "            break\n",
    "\n",
    "pImages=np.array(pImages)\n",
    "\n",
    "nImagePath=[]\n",
    "nImages=[]\n",
    "\n",
    "count=0\n",
    "for file in listdir(nPath):\n",
    "    joinedPath=os.path.join(nPath,file)\n",
    "    if(os.path.isfile(joinedPath)):\n",
    "        count+=1\n",
    "        nImagePath.append(joinedPath)\n",
    "        img=cv.imread(joinedPath, 0)\n",
    "        img=cv.resize(img, resizedShape)\n",
    "        nImages.append(img)\n",
    "        if(count==2000):\n",
    "            break\n",
    "\n",
    "nImages=np.array(nImages)\n",
    "\n",
    "numPos = np.shape(pImages)[0]\n",
    "numNeg = np.shape(nImages)[0]\n",
    "\n",
    "labels=np.concatenate((np.ones(numPos),np.zeros(numNeg)))\n",
    "images=np.concatenate((pImages, nImages), axis=0)\n",
    "\n",
    "xTrain=images\n",
    "yTrain=labels\n",
    "\n",
    "#xTrain, xTest, yTrain, yTest = train_test_split(images, labels, test_size=0.2)\n",
    "\n",
    "print(np.shape(xTrain))\n",
    "#print(np.shape(xTest))\n",
    "print(np.shape(yTrain))\n",
    "#print(np.shape(yTest))\n",
    "\n"
   ]
  },
  {
   "cell_type": "markdown",
   "metadata": {
    "id": "a5t04YHXHEnI"
   },
   "source": [
    "## Loading Test Dataset"
   ]
  },
  {
   "cell_type": "code",
   "execution_count": 3,
   "metadata": {
    "colab": {
     "base_uri": "https://localhost:8080/"
    },
    "id": "ZPHkit3T4j4x",
    "outputId": "35a4a303-0d31-441f-9b5e-eccb6b919ca9"
   },
   "outputs": [
    {
     "name": "stdout",
     "output_type": "stream",
     "text": [
      "(3472, 19, 19)\n",
      "(3472,)\n"
     ]
    }
   ],
   "source": [
    "pPath='faces/face.test/test/face'\n",
    "nPath='faces/face.test/test/non-face'\n",
    "\n",
    "resizedShape=(19,19)\n",
    "\n",
    "pImagePath=[]\n",
    "pImages=[]\n",
    "\n",
    "count=0\n",
    "for file in listdir(pPath):\n",
    "    joinedPath=os.path.join(pPath,file)\n",
    "    if(os.path.isfile(joinedPath)):\n",
    "        count+=1\n",
    "        pImagePath.append(joinedPath)\n",
    "        img=cv.imread(joinedPath, 0)\n",
    "        img=cv.resize(img, resizedShape)\n",
    "        pImages.append(img)\n",
    "        if(count==500):\n",
    "            break\n",
    "\n",
    "pImages=np.array(pImages)\n",
    "\n",
    "nImagePath=[]\n",
    "nImages=[]\n",
    "\n",
    "count=0\n",
    "for file in listdir(nPath):\n",
    "    joinedPath=os.path.join(nPath,file)\n",
    "    if(os.path.isfile(joinedPath)):\n",
    "        count+=1\n",
    "        nImagePath.append(joinedPath)\n",
    "        img=cv.imread(joinedPath, 0)\n",
    "        img=cv.resize(img, resizedShape)\n",
    "        nImages.append(img)\n",
    "        if(count==3000):\n",
    "            break\n",
    "\n",
    "nImages=np.array(nImages)\n",
    "\n",
    "numPos = np.shape(pImages)[0]\n",
    "numNeg = np.shape(nImages)[0]\n",
    "\n",
    "labels=np.concatenate((np.ones(numPos),np.zeros(numNeg)))\n",
    "images=np.concatenate((pImages, nImages), axis=0)\n",
    "\n",
    "xTest=images\n",
    "yTest=labels\n",
    "\n",
    "#xTrain, xTest, yTrain, yTest = train_test_split(images, labels, test_size=0.2)\n",
    "\n",
    "#print(np.shape(xTrain))\n",
    "print(np.shape(xTest))\n",
    "#print(np.shape(yTrain))\n",
    "print(np.shape(yTest))\n"
   ]
  },
  {
   "cell_type": "code",
   "execution_count": 4,
   "metadata": {
    "id": "1x8lFbgLKFrh"
   },
   "outputs": [],
   "source": [
    "from sklearn.utils import shuffle\n",
    "xTrain, yTrain = shuffle(xTrain, yTrain)\n"
   ]
  },
  {
   "cell_type": "code",
   "execution_count": 5,
   "metadata": {
    "id": "87M1mPFxZIU_"
   },
   "outputs": [],
   "source": [
    "xTest, yTest = shuffle(xTest, yTest)"
   ]
  },
  {
   "cell_type": "code",
   "execution_count": 6,
   "metadata": {},
   "outputs": [],
   "source": [
    "import pickle\n",
    "\n",
    "with open('xtrain.pickle','wb') as xtrainFile:\n",
    "     pickle.dump(xTrain, xtrainFile)\n",
    "        \n",
    "with open('ytrain.pickle','wb') as ytrainFile:\n",
    "     pickle.dump(yTrain, ytrainFile)\n",
    "        \n",
    "with open('xtest.pickle','wb') as xtestFile:\n",
    "     pickle.dump(xTest, xtestFile)\n",
    "        \n",
    "with open('ytest.pickle','wb') as ytestFile:\n",
    "     pickle.dump(yTest, ytestFile)"
   ]
  },
  {
   "cell_type": "markdown",
   "metadata": {
    "id": "lviekSYcHLSu"
   },
   "source": [
    "## Visualization of the images"
   ]
  },
  {
   "cell_type": "code",
   "execution_count": 7,
   "metadata": {
    "id": "hlvsZq4GGpMQ"
   },
   "outputs": [],
   "source": [
    "def display(images):\n",
    "    for img in images:\n",
    "        #img = cv.cvtColor(img, cv.COLOR_RGB2GRAY)\n",
    "        fig = plt.figure(figsize=(1,1))\n",
    "        #plt.imshow(img)\n",
    "        plt.imshow(cv.cvtColor(img, cv.COLOR_BGR2RGB))\n",
    "        plt.show()\n",
    "        #plt.show()"
   ]
  },
  {
   "cell_type": "code",
   "execution_count": 8,
   "metadata": {
    "colab": {
     "base_uri": "https://localhost:8080/",
     "height": 457
    },
    "id": "Y1TzKwLjGuVm",
    "outputId": "ab48c513-01aa-4482-f044-e4babd5121af"
   },
   "outputs": [
    {
     "data": {
      "image/png": "[encoded data removed]",
      "text/plain": [
       "<Figure size 72x72 with 1 Axes>"
      ]
     },
     "metadata": {
      "needs_background": "light"
     },
     "output_type": "display_data"
    },
    {
     "data": {
      "image/png": "[encoded data removed]",
      "text/plain": [
       "<Figure size 72x72 with 1 Axes>"
      ]
     },
     "metadata": {
      "needs_background": "light"
     },
     "output_type": "display_data"
    },
    {
     "data": {
      "image/png": "[encoded data removed]",
      "text/plain": [
       "<Figure size 72x72 with 1 Axes>"
      ]
     },
     "metadata": {
      "needs_background": "light"
     },
     "output_type": "display_data"
    },
    {
     "data": {
      "image/png": "[encoded data removed]",
      "text/plain": [
       "<Figure size 72x72 with 1 Axes>"
      ]
     },
     "metadata": {
      "needs_background": "light"
     },
     "output_type": "display_data"
    },
    {
     "data": {
      "image/png": "[encoded data removed]",
      "text/plain": [
       "<Figure size 72x72 with 1 Axes>"
      ]
     },
     "metadata": {
      "needs_background": "light"
     },
     "output_type": "display_data"
    }
   ],
   "source": [
    "display(xTrain[0:5])"
   ]
  },
  {
   "cell_type": "code",
   "execution_count": 9,
   "metadata": {
    "colab": {
     "base_uri": "https://localhost:8080/",
     "height": 457
    },
    "id": "lXwbfgudKwNA",
    "outputId": "8d192f74-0624-40cb-d7ef-723551ad9712"
   },
   "outputs": [
    {
     "data": {
      "image/png": "[encoded data removed]",
      "text/plain": [
       "<Figure size 72x72 with 1 Axes>"
      ]
     },
     "metadata": {
      "needs_background": "light"
     },
     "output_type": "display_data"
    },
    {
     "data": {
      "image/png": "[encoded data removed]",
      "text/plain": [
       "<Figure size 72x72 with 1 Axes>"
      ]
     },
     "metadata": {
      "needs_background": "light"
     },
     "output_type": "display_data"
    },
    {
     "data": {
      "image/png": "[encoded data removed]",
      "text/plain": [
       "<Figure size 72x72 with 1 Axes>"
      ]
     },
     "metadata": {
      "needs_background": "light"
     },
     "output_type": "display_data"
    },
    {
     "data": {
      "image/png": "[encoded data removed]",
      "text/plain": [
       "<Figure size 72x72 with 1 Axes>"
      ]
     },
     "metadata": {
      "needs_background": "light"
     },
     "output_type": "display_data"
    },
    {
     "data": {
      "image/png": "[encoded data removed]",
      "text/plain": [
       "<Figure size 72x72 with 1 Axes>"
      ]
     },
     "metadata": {
      "needs_background": "light"
     },
     "output_type": "display_data"
    }
   ],
   "source": [
    "display(xTest[0:5])"
   ]
  },
  {
   "cell_type": "markdown",
   "metadata": {
    "id": "e_fwFoOsHPyh"
   },
   "source": [
    "## Building features"
   ]
  },
  {
   "cell_type": "code",
   "execution_count": 3,
   "metadata": {
    "id": "ymYuaCximS5D"
   },
   "outputs": [],
   "source": [
    "def buildFeatures():\n",
    "    windowSize=(19,19)\n",
    "    minFeatureW=2\n",
    "    maxFeatureW=19\n",
    "    minFeatureH=2\n",
    "    maxFeatureH=19\n",
    "    features=[]\n",
    "    featureType=[[1,2],               #2 vertically adjacent (up-down): min width=1, min height=2\n",
    "                 [2,1],               #2 horizontally adjacent (left-right): min width=2, min height=1\n",
    "#                  [1,3],               #3 vertically adjacent (3 pixels in a column): min width=1, min height=3\n",
    "                 [3,1],               #3 horizontally adjacent (3 pixels in a row): min width=3, min height=1\n",
    "                 [2,2]]               #2H 2V (2X2 pixels): min width=2, min height=2\n",
    "    \n",
    "    for feature in featureType:\n",
    "        minFeatureW=feature[0]\n",
    "        minFeatureH=feature[1]        \n",
    "        \n",
    "        #size of the feature\n",
    "        for featureW in range(minFeatureW, maxFeatureW+1, feature[0]):\n",
    "            for featureH in range(minFeatureH, maxFeatureH+1, feature[1]):\n",
    "                \n",
    "                #position of the feature\n",
    "                for row in range(windowSize[0]-featureH+1):\n",
    "                    for col in range(windowSize[1]-featureW+1):\n",
    "                        \n",
    "                        features.append([feature, row, col, featureW, featureH])\n",
    "        \n",
    "    return features"
   ]
  },
  {
   "cell_type": "code",
   "execution_count": 10,
   "metadata": {
    "id": "Gc1lY-XhmS5H"
   },
   "outputs": [],
   "source": [
    "features=buildFeatures()"
   ]
  },
  {
   "cell_type": "code",
   "execution_count": 11,
   "metadata": {
    "colab": {
     "base_uri": "https://localhost:8080/"
    },
    "id": "57nzEhRomS5I",
    "outputId": "4cb8a35e-da51-42ca-f8d9-e20e948b7092"
   },
   "outputs": [
    {
     "name": "stdout",
     "output_type": "stream",
     "text": [
      "53130\n"
     ]
    }
   ],
   "source": [
    "print(len(features))"
   ]
  },
  {
   "cell_type": "markdown",
   "metadata": {
    "id": "U2EYTkhYHVAC"
   },
   "source": [
    "## Integral Image representation"
   ]
  },
  {
   "cell_type": "code",
   "execution_count": 4,
   "metadata": {
    "id": "ysxvkSjWmS5E"
   },
   "outputs": [],
   "source": [
    "def getIntegralImg(img):\n",
    "    rows,cols=np.shape(img)\n",
    "    s=np.zeros(np.shape(img))\n",
    "    ii=np.zeros(np.shape(img))\n",
    "    for i in range(rows):\n",
    "        for j in range(cols):\n",
    "            if(i==0):\n",
    "                s[i,j]=img[i,j]\n",
    "            else:\n",
    "                s[i,j]=s[i-1,j]+ img[i,j]\n",
    "            if(j==0):\n",
    "                ii[i,j]=s[i,j]\n",
    "            else:\n",
    "                ii[i,j]=ii[i,j-1]+s[i,j]\n",
    "    return ii"
   ]
  },
  {
   "cell_type": "code",
   "execution_count": 14,
   "metadata": {
    "colab": {
     "base_uri": "https://localhost:8080/"
    },
    "id": "EkTNxCXcmS5E",
    "outputId": "11656755-d1b2-44af-cebe-a25ee18d11a7"
   },
   "outputs": [
    {
     "name": "stdout",
     "output_type": "stream",
     "text": [
      "[[ 5.  7. 10. 14. 15.]\n",
      " [ 6. 13. 20. 26. 30.]\n",
      " [ 8. 17. 25. 34. 42.]\n",
      " [11. 25. 39. 52. 65.]\n",
      " [15. 30. 47. 62. 81.]]\n"
     ]
    }
   ],
   "source": [
    "sample_image =  np.array([\n",
    "    [5, 2, 3, 4, 1], \n",
    "    [1, 5, 4, 2, 3],\n",
    "    [2, 2, 1, 3, 4],\n",
    "    [3, 5, 6, 4, 5],\n",
    "    [4, 1, 3, 2, 6]])\n",
    "integralImg=getIntegralImg(sample_image)\n",
    "print(integralImg)"
   ]
  },
  {
   "cell_type": "markdown",
   "metadata": {
    "id": "uamvVWKWHcZa"
   },
   "source": [
    "## Evaluating and Computing different features"
   ]
  },
  {
   "cell_type": "code",
   "execution_count": 5,
   "metadata": {
    "id": "9tBuXHYYmS5F"
   },
   "outputs": [],
   "source": [
    "def getSum(integralImg, startRow, startCol, width, height):\n",
    "\n",
    "    endRow = startRow+height-1\n",
    "    endCol = startCol+width-1\n",
    "\n",
    "    val=integralImg[endRow, endCol]        \n",
    "\n",
    "    if(startCol!=0):\n",
    "        val-=integralImg[endRow, startCol-1]\n",
    "    elif(startRow!=0):\n",
    "        val-=integralImg[startRow-1, endCol]\n",
    "\n",
    "    if(startCol!=0 and startRow!=0):\n",
    "        val+=integralImg[startRow-1, endCol-1]\n",
    "    \n",
    "    return val\n",
    "    \n",
    "def evaluateFeature(img, feature):\n",
    "    featureType, row, col, featureW, featureH = feature\n",
    "    \n",
    "    # width and height of one part of the feature\n",
    "    width=int(featureW/featureType[0])\n",
    "    height=int(featureH/featureType[1])\n",
    "\n",
    "    white=0\n",
    "    black=0\n",
    "    \n",
    "    if(featureType==[1,2]):                                               #B\n",
    "        black += getSum(img, row, col, width, height)                     #W\n",
    "        white += getSum(img, row+height, col, width, height)\n",
    "\n",
    "    elif(featureType==[2,1]):                                            #WB\n",
    "        white += getSum(img, row, col, width, height)\n",
    "        black += getSum(img, row, col+width , width, height)\n",
    "\n",
    "    elif(featureType==[3,1]):                                           #WBW\n",
    "        white += getSum(img, row, col, width, height)\n",
    "        black += getSum(img, row, col+width, width, height)\n",
    "        white += getSum(img, row, col+2*width, width, height)\n",
    "\n",
    "    elif(featureType==[2,2]):                                             #WB\n",
    "        white += getSum(img, row, col, width, height)                     #BW\n",
    "        white += getSum(img, row+height, col+width, width, height)\n",
    "        black += getSum(img, row, col+width, width, height)\n",
    "        black += getSum(img, row+height, col, width, height)\n",
    "        \n",
    "    return black-white\n",
    "\n",
    "def computeFeatureValues(images, features):\n",
    "    numImages=np.shape(images)[0]\n",
    "    \n",
    "    res=np.zeros((0, len(features)))\n",
    "    for j in range(numImages):\n",
    "        temp=[]\n",
    "        img=getIntegralImg(images[j])\n",
    "        for i in range(len(features)):\n",
    "            feature = features[i]\n",
    "            featureVal = evaluateFeature(img, feature)\n",
    "            temp.append(featureVal)\n",
    "        res = np.hstack((res.reshape(len(temp),-1),np.array(temp).reshape(len(temp),-1)))\n",
    "    return res"
   ]
  },
  {
   "cell_type": "markdown",
   "metadata": {
    "id": "hc8dMfNlIHUK"
   },
   "source": [
    "## Computations of the feature values"
   ]
  },
  {
   "cell_type": "code",
   "execution_count": 16,
   "metadata": {
    "id": "-0m_OfoTmS5I"
   },
   "outputs": [],
   "source": [
    "featureVals = computeFeatureValues(xTrain,features)"
   ]
  },
  {
   "cell_type": "code",
   "execution_count": 17,
   "metadata": {
    "colab": {
     "base_uri": "https://localhost:8080/"
    },
    "id": "zt3q0Hc5mS5J",
    "outputId": "7b2b3336-c159-44d8-9554-802b14f9aee5"
   },
   "outputs": [
    {
     "name": "stdout",
     "output_type": "stream",
     "text": [
      "(53130, 4000)\n"
     ]
    }
   ],
   "source": [
    "print(featureVals.shape)"
   ]
  },
  {
   "cell_type": "code",
   "execution_count": 18,
   "metadata": {},
   "outputs": [],
   "source": [
    "with open('featureValues.pickle','wb') as featureValuesFile:\n",
    "     pickle.dump(featureVals, featureValuesFile)"
   ]
  },
  {
   "cell_type": "markdown",
   "metadata": {
    "id": "qMWiZVWWmS5J"
   },
   "source": [
    "## Select Best Features"
   ]
  },
  {
   "cell_type": "code",
   "execution_count": 20,
   "metadata": {
    "id": "kEmynCUamS5K"
   },
   "outputs": [],
   "source": [
    "bestFeatureIndices = SelectPercentile(f_classif, percentile=10).fit(featureVals.T, yTrain).get_support(indices=True)"
   ]
  },
  {
   "cell_type": "code",
   "execution_count": 21,
   "metadata": {
    "colab": {
     "base_uri": "https://localhost:8080/"
    },
    "id": "7ZmbOALMmS5K",
    "outputId": "fbfec2ef-1b16-44c6-b717-48cac824cf7b",
    "scrolled": true
   },
   "outputs": [
    {
     "name": "stdout",
     "output_type": "stream",
     "text": [
      "(5313,)\n"
     ]
    }
   ],
   "source": [
    "print(np.shape(bestFeatureIndices))"
   ]
  },
  {
   "cell_type": "code",
   "execution_count": 22,
   "metadata": {
    "colab": {
     "base_uri": "https://localhost:8080/"
    },
    "id": "kuUB6o84mS5K",
    "outputId": "34d5b7b8-c0f0-4e66-c797-cbd421c9660f"
   },
   "outputs": [
    {
     "name": "stderr",
     "output_type": "stream",
     "text": [
      "/home/aditi/.local/lib/python3.8/site-packages/numpy/core/_asarray.py:83: VisibleDeprecationWarning: Creating an ndarray from ragged nested sequences (which is a list-or-tuple of lists-or-tuples-or ndarrays with different lengths or shapes) is deprecated. If you meant to do this, you must specify 'dtype=object' when creating the ndarray\n",
      "  return array(a, dtype, copy=False, order=order)\n"
     ]
    }
   ],
   "source": [
    "featureVals = np.take(featureVals, bestFeatureIndices, axis=0)\n",
    "selectedFeatures = np.take(features, bestFeatureIndices, axis=0)"
   ]
  },
  {
   "cell_type": "code",
   "execution_count": 23,
   "metadata": {},
   "outputs": [],
   "source": [
    "with open('selectedFeatures.pickle','wb') as file:\n",
    "     pickle.dump(selectedFeatures, file)\n",
    "        \n",
    "with open('selectedFeatureVals.pickle','wb') as file:\n",
    "     pickle.dump(featureVals, file)"
   ]
  },
  {
   "cell_type": "markdown",
   "metadata": {
    "id": "0cO_oJgFmS5L"
   },
   "source": [
    "## Train the weak classifiers"
   ]
  },
  {
   "cell_type": "code",
   "execution_count": 6,
   "metadata": {
    "id": "QdwdZ8bfmS5L"
   },
   "outputs": [],
   "source": [
    "#Called for each type of feature\n",
    "def getPolarityThreshold(weights,labels,featureVal): \n",
    "    '''\n",
    "    weights: weights corresponding to each of the training images\n",
    "    labels: labels of the training images\n",
    "    featureVal: List of values computed for the feature on each of the training image\n",
    "\n",
    "    returns pol, th\n",
    "    polarity: polarity for the feature\n",
    "    th: threshold for the feature\n",
    "    '''\n",
    "    sortedFeat = sorted(zip(featureVal,weights,labels),key=lambda x:x[0])\n",
    "    totalPosWt = np.sum(weights[np.where(labels==1)[0]])\n",
    "    totalNegWt = np.sum(weights[np.where(labels==0)[0]])\n",
    "\n",
    "    curNegWt = curPosWt = polarity = posMinusNegCount = th = 0\n",
    "    minErr = np.inf\n",
    "   \n",
    "    for val, weight, label in sortedFeat:\n",
    "        err1=curNegWt + totalPosWt - curPosWt      #when features below current feature are assigned +ve label and above ones are assigned -ve label\n",
    "        err2=curPosWt + totalNegWt - curNegWt\n",
    "        err = min(err1, err2)\n",
    "        if err < minErr:\n",
    "            if(err1<err2):\n",
    "                polarity=1                 #so that less than threshold are assigned +ve label using p*featureVal<p*th\n",
    "            else:\n",
    "                polarity=-1                #greater than polarity are assigned +ve\n",
    "\n",
    "            minErr = err\n",
    "            th = val\n",
    "\n",
    "        if label==1:\n",
    "            posMinusNegCount += 1\n",
    "            curPosWt += weight\n",
    "        else:\n",
    "            posMinusNegCount -= 1\n",
    "            curNegWt += weight\n",
    "            \n",
    "    return [polarity,th]\n",
    "\n",
    "\n",
    "def get_weak_classifier(labels, feature_vals, T=10, removedImgIdx=[], selectedFeatures=[], prevWeakClf=[]):\n",
    "    '''\n",
    "    INPUTS\n",
    "    labels: labels of the images\n",
    "    featureVals: array of shape (num of Features X num of images); stores value of each feature computed on each image\n",
    "    T: number of weak classifiers desired\n",
    "    \n",
    "    OUTPUTS\n",
    "    \n",
    "    '''\n",
    "\n",
    "    selected = selectedFeatures\n",
    "    #initialize weights\n",
    "    weights = np.zeros(len(labels))\n",
    "\n",
    "    posImgIdx = np.where(labels==1)[0]\n",
    "    weights[posImgIdx] = 1/(2*len(posImgIdx))\n",
    "\n",
    "    negImgIdx = np.where(labels==0)[0]\n",
    "    weights[negImgIdx] = 1/(2*len(negImgIdx))\n",
    "\n",
    "    weak_classifiers = []\n",
    "    alphas = []\n",
    "\n",
    "    startIter=0\n",
    "\n",
    "    if(prevWeakClf!=[]):\n",
    "        clfs, weights = prevWeakClf\n",
    "        for clf in clfs:\n",
    "            _, _, idx, alpha = clf\n",
    "            selected.append(idx)\n",
    "            alphas.append(alpha)\n",
    "\n",
    "        weak_classifiers=clfs\n",
    "        \n",
    "        startIter=len(weak_classifiers)\n",
    "    \n",
    "    #Get weak classifiers\n",
    "    #For each iteration - select classifier with min error -> update weights -> normalize weights\n",
    "    for t in range(startIter, T): \n",
    "        min_err = np.inf\n",
    "        pred_t = None\n",
    "        min_ind = 0\n",
    "        p_t = 0\n",
    "        \n",
    "        weights *= 1. / np.sum(weights)\n",
    "\n",
    "        #for each feature train a classifier\n",
    "        for i in range(len(feature_vals)):\n",
    "            if i not in selected:\n",
    "                feature_val_i = feature_vals[i]\n",
    "                feature_val_i = np.delete(feature_val_i, removedImgIdx, axis=0)\n",
    "                p,th = getPolarityThreshold(weights,labels,feature_val_i)\n",
    "                \n",
    "                pred = np.zeros(len(feature_val_i))\n",
    "                pred[np.where(p*feature_val_i < p*th)[0]] = 1 \n",
    "                \n",
    "                err = np.sum(weights[np.where(pred!=labels)[0]])\n",
    "                if err<min_err:\n",
    "                    min_err = err.copy()\n",
    "                    pred_t = pred.copy()\n",
    "                    p_t = p\n",
    "                    th_t = th\n",
    "                    min_ind = i\n",
    "        \n",
    "        selected.append(min_ind)\n",
    "        beta = min_err/(1-min_err)\n",
    "        \n",
    "        ind = np.where(pred_t==labels)[0]\n",
    "        weights[ind] = weights[ind]*beta\n",
    "        print(f\"Iter {t}: \\nCorrect predictions: {len(ind)}\\n\")\n",
    "        \n",
    "        alphas.append(math.log((1/beta)))\n",
    "        weak_classifiers.append([p_t,th_t,min_ind,alphas[-1]]) #np.vstack((weak_classifiers,(pred_t*alphas[-1])))\n",
    "           \n",
    "    print(\"Alpha values:\", alphas)\n",
    "    \n",
    "    th = np.sum(np.array(alphas))/2\n",
    "    \n",
    "    return [weak_classifiers,th, weights]    \n",
    "        "
   ]
  },
  {
   "cell_type": "code",
   "execution_count": 13,
   "metadata": {
    "colab": {
     "base_uri": "https://localhost:8080/"
    },
    "id": "A84nCQBcjBss",
    "outputId": "3de505b8-066d-471d-b702-12853c7643ea"
   },
   "outputs": [
    {
     "name": "stdout",
     "output_type": "stream",
     "text": [
      "Iter 0: \n",
      "Correct predictions: 3483\n",
      "\n",
      "Iter 1: \n",
      "Correct predictions: 3390\n",
      "\n",
      "Iter 2: \n",
      "Correct predictions: 3163\n",
      "\n",
      "Iter 3: \n",
      "Correct predictions: 3169\n",
      "\n",
      "Iter 4: \n",
      "Correct predictions: 2954\n",
      "\n",
      "Iter 5: \n",
      "Correct predictions: 3224\n",
      "\n",
      "Iter 6: \n",
      "Correct predictions: 2102\n",
      "\n",
      "Iter 7: \n",
      "Correct predictions: 3239\n",
      "\n",
      "Iter 8: \n",
      "Correct predictions: 1308\n",
      "\n",
      "Iter 9: \n",
      "Correct predictions: 2781\n",
      "\n",
      "Alpha values: [1.9076063958575729, 1.5232479107353605, 1.036068488626131, 0.9082941553770388, 0.8187616738739544, 0.9297064343163118, 0.8141409358674889, 0.8341703193832662, 0.7665302504054414, 0.7649563267023524]\n"
     ]
    }
   ],
   "source": [
    "weak_classifiers,th, weights = get_weak_classifier(yTrain,featureVals)"
   ]
  },
  {
   "cell_type": "markdown",
   "metadata": {
    "id": "xNC8VCo3ISAX"
   },
   "source": [
    "## Train the strong classifier"
   ]
  },
  {
   "cell_type": "code",
   "execution_count": 14,
   "metadata": {
    "id": "Vt-0i2vfGVUZ"
   },
   "outputs": [],
   "source": [
    "def strong_classifier(weak_classifiers, alpha_th, images,features, integral=False):\n",
    "    '''\n",
    "    INPUTS\n",
    "    images: training images\n",
    "    labels: labels of the images\n",
    "    feature: array of shape (num of Features X num of images); stores value of each feature computed on each image\n",
    "    alpha_th: hreshold of the feature\n",
    "    \n",
    "    OUTPUTS\n",
    "    Returns the prediction whether it is a face or not\n",
    "    \n",
    "    '''\n",
    "    h = np.zeros(len(images))\n",
    "    for clf in weak_classifiers:\n",
    "        p,th,i,alpha = clf\n",
    "        feature = get_feature_val(images, features[i], integral)\n",
    "        h[np.where(p*feature < p*th)[0]] += alpha\n",
    "    \n",
    "    pred = np.zeros(len(images))\n",
    "    pred[np.where(h>=alpha_th)] = 1\n",
    "    \n",
    "    return pred\n"
   ]
  },
  {
   "cell_type": "code",
   "execution_count": 15,
   "metadata": {
    "id": "d1HfFa6hJBBK"
   },
   "outputs": [],
   "source": [
    "def get_feature_val(images,feature, integral=False):\n",
    "    f = []\n",
    "    for img in images:\n",
    "        if(integral):\n",
    "            f.append(evaluateFeature(img,feature))\n",
    "        else:\n",
    "            f.append(evaluateFeature(getIntegralImg(img),feature))\n",
    "    \n",
    "    return np.array(f)"
   ]
  },
  {
   "cell_type": "markdown",
   "metadata": {
    "id": "jMdOshmWIcQA"
   },
   "source": [
    "### Prediction of the training dataset"
   ]
  },
  {
   "cell_type": "code",
   "execution_count": 16,
   "metadata": {
    "id": "jKAfCNxLJMlp"
   },
   "outputs": [],
   "source": [
    "y_pred_train = strong_classifier(weak_classifiers,th,xTrain,selectedFeatures)"
   ]
  },
  {
   "cell_type": "markdown",
   "metadata": {},
   "source": [
    "### Metrics for the training dataset\n"
   ]
  },
  {
   "cell_type": "code",
   "execution_count": 17,
   "metadata": {},
   "outputs": [
    {
     "name": "stdout",
     "output_type": "stream",
     "text": [
      "Accuracy score:\n",
      "0.94375\n",
      "F1-Score:\n",
      "0.9437630846836318\n",
      "Classification Report:\n",
      "              precision    recall  f1-score   support\n",
      "\n",
      "         0.0       0.93      0.96      0.94      1939\n",
      "         1.0       0.96      0.93      0.94      2061\n",
      "\n",
      "    accuracy                           0.94      4000\n",
      "   macro avg       0.94      0.94      0.94      4000\n",
      "weighted avg       0.94      0.94      0.94      4000\n",
      "\n",
      "Confusion Matrix:\n",
      "[[1857   82]\n",
      " [ 143 1918]]\n"
     ]
    }
   ],
   "source": [
    "accuracy_train=metrics.accuracy_score(y_pred_train,yTrain)\n",
    "print(\"Accuracy score:\")\n",
    "print(accuracy_train)\n",
    "\n",
    "f1_train=metrics.f1_score(y_pred_train,yTrain,average='weighted')\n",
    "print(\"F1-Score:\")\n",
    "print(f1_train)\n",
    "\n",
    "report_train=metrics.classification_report(y_pred_train,yTrain)\n",
    "print(\"Classification Report:\")\n",
    "print(report_train)\n",
    "\n",
    "confusion_train=metrics.confusion_matrix(y_pred_train,yTrain)\n",
    "print(\"Confusion Matrix:\")\n",
    "print(confusion_train)"
   ]
  },
  {
   "cell_type": "markdown",
   "metadata": {},
   "source": [
    "### Predictions about the test dataset \n"
   ]
  },
  {
   "cell_type": "code",
   "execution_count": 18,
   "metadata": {},
   "outputs": [],
   "source": [
    "y_pred_test =  strong_classifier(weak_classifiers,th,xTest,selectedFeatures)"
   ]
  },
  {
   "cell_type": "markdown",
   "metadata": {},
   "source": [
    "### Metrics for the test dataset"
   ]
  },
  {
   "cell_type": "code",
   "execution_count": 19,
   "metadata": {},
   "outputs": [
    {
     "name": "stdout",
     "output_type": "stream",
     "text": [
      "Accuracy Score:\n",
      "0.868663594470046\n",
      "F1-score:\n",
      "0.8771013257085523\n",
      "Classification Report:\n",
      "              precision    recall  f1-score   support\n",
      "\n",
      "         0.0       0.94      0.91      0.93      3122\n",
      "         1.0       0.39      0.52      0.45       350\n",
      "\n",
      "    accuracy                           0.87      3472\n",
      "   macro avg       0.67      0.72      0.69      3472\n",
      "weighted avg       0.89      0.87      0.88      3472\n",
      "\n",
      "Confusion Matrix:\n",
      "[[2833  289]\n",
      " [ 167  183]]\n",
      "+------------------+--------------------+--------------------+\n",
      "|     Metrics      |  Training Dataset  |    Test Dataset    |\n",
      "+------------------+--------------------+--------------------+\n",
      "|  Accuracy score  |      0.94375       | 0.868663594470046  |\n",
      "|     f1_score     | 0.9437630846836318 | 0.8771013257085523 |\n",
      "| confusion matrix |    [[1857   82]    |    [[2833  289]    |\n",
      "|                  |    [ 143 1918]]    |    [ 167  183]]    |\n",
      "+------------------+--------------------+--------------------+\n"
     ]
    },
    {
     "data": {
      "image/png": "[encoded data removed]",
      "text/plain": [
       "<Figure size 432x288 with 2 Axes>"
      ]
     },
     "metadata": {
      "needs_background": "light"
     },
     "output_type": "display_data"
    }
   ],
   "source": [
    "accuracy_test=metrics.accuracy_score(y_pred_test,yTest)\n",
    "print(\"Accuracy Score:\")\n",
    "print(accuracy_test)\n",
    "\n",
    "f1_test=metrics.f1_score(y_pred_test,yTest,average='weighted')\n",
    "print(\"F1-score:\")\n",
    "print(f1_test)\n",
    "\n",
    "classification_test=metrics.classification_report(y_pred_test,yTest)\n",
    "print(\"Classification Report:\")\n",
    "print(classification_test)\n",
    "\n",
    "confusion_test=metrics.confusion_matrix(y_pred_test,yTest)\n",
    "print(\"Confusion Matrix:\")\n",
    "print(confusion_test)\n",
    "\n",
    "from prettytable import PrettyTable\n",
    "opt=['Accuracy score','f1_score','confusion matrix']\n",
    "train=[accuracy_train,f1_train,confusion_train]\n",
    "test=[accuracy_test,f1_test,confusion_test]\n",
    "t=PrettyTable(['Metrics','Training Dataset','Test Dataset'])\n",
    "for i in range(3):\n",
    "    main=opt[i]\n",
    "    col1=train[i]\n",
    "    col2=test[i]\n",
    "    t.add_row([main,col1,col2])\n",
    "print(t)\n",
    "\n",
    "import seaborn as sns\n",
    "sns.heatmap(confusion_train, annot=True, annot_kws={\"size\": 16}) \n",
    "plt.show()"
   ]
  },
  {
   "cell_type": "markdown",
   "metadata": {},
   "source": [
    "## Adaboost Training"
   ]
  },
  {
   "cell_type": "markdown",
   "metadata": {},
   "source": [
    "### Load Dataset and corresponding featureVals"
   ]
  },
  {
   "cell_type": "code",
   "execution_count": 12,
   "metadata": {},
   "outputs": [
    {
     "name": "stderr",
     "output_type": "stream",
     "text": [
      "/home/aditi/.local/lib/python3.8/site-packages/numpy/core/_asarray.py:83: VisibleDeprecationWarning: Creating an ndarray from ragged nested sequences (which is a list-or-tuple of lists-or-tuples-or ndarrays with different lengths or shapes) is deprecated. If you meant to do this, you must specify 'dtype=object' when creating the ndarray\n",
      "  return array(a, dtype, copy=False, order=order)\n"
     ]
    }
   ],
   "source": [
    "import pickle\n",
    "file = open('xtrain.pickle', 'rb')\n",
    "xTrain = pickle.load(file)\n",
    "file.close()\n",
    "\n",
    "file = open('ytrain.pickle', 'rb')\n",
    "yTrain = pickle.load(file)\n",
    "file.close()\n",
    "\n",
    "file = open('xtest.pickle', 'rb')\n",
    "xTest = pickle.load(file)\n",
    "file.close()\n",
    "\n",
    "file = open('ytest.pickle', 'rb')\n",
    "yTest = pickle.load(file)\n",
    "file.close()\n",
    "\n",
    "file = open('featureValues.pickle', 'rb')\n",
    "featureVals = pickle.load(file)\n",
    "file.close()\n",
    "\n",
    "bestFeatureIndices = SelectPercentile(f_classif, percentile=10).fit(featureVals.T, yTrain).get_support(indices=True)\n",
    "featureVals = np.take(featureVals, bestFeatureIndices, axis=0)\n",
    "selectedFeatures = np.take(features, bestFeatureIndices, axis=0)"
   ]
  },
  {
   "cell_type": "code",
   "execution_count": 20,
   "metadata": {},
   "outputs": [],
   "source": [
    "def getAdaboostClassifier(yTrain, T, removedImgIdx, selectedFeatureIdx, prevWeakClf=[]):\n",
    "\n",
    "    file = open('selectedFeatureVals.pickle', 'rb')\n",
    "    featureVals = pickle.load(file)\n",
    "    file.close()\n",
    "\n",
    "    weak_classifiers, th, weights = get_weak_classifier(yTrain, featureVals, T, removedImgIdx, selectedFeatureIdx, prevWeakClf)\n",
    "    return weak_classifiers, th, weights\n"
   ]
  },
  {
   "cell_type": "code",
   "execution_count": 21,
   "metadata": {},
   "outputs": [],
   "source": [
    "xTrainInt=np.empty(np.shape(xTrain))\n",
    "xTestInt=np.empty(np.shape(xTest))\n",
    "\n",
    "for idx,img in enumerate(xTrain):\n",
    "    xTrainInt[idx]=getIntegralImg(img)\n",
    "\n",
    "for idx,img in enumerate(xTest):\n",
    "    xTestInt[idx]=getIntegralImg(img)"
   ]
  },
  {
   "cell_type": "code",
   "execution_count": 22,
   "metadata": {},
   "outputs": [],
   "source": [
    "def getCascadedClf(xTrainInt, yTrain, xTestInt, yTest, selectedFeatures, maxStages=3):\n",
    "    tpr=0.5\n",
    "    fpr=0.6\n",
    "    tprFinal=0.6\n",
    "    fprFinal=0.08\n",
    "    \n",
    "    tprList=np.ones(maxStages+1, dtype='float')\n",
    "    fprList=np.ones(maxStages+1, dtype='float')\n",
    "    numFeat=np.zeros(maxStages+1, dtype='int')\n",
    "    \n",
    "    xTrainCur=xTrainInt.copy()\n",
    "    yTrainCur=yTrain.copy()\n",
    "\n",
    "    xTestCur=xTestInt.copy()\n",
    "    yTestCur=yTest.copy()\n",
    "\n",
    "    cascadedClf=[]\n",
    "    alphaTh=[]\n",
    "    i=0\n",
    "    usedFeatureIdx=[]\n",
    "    removedIdx=[]\n",
    "    \n",
    "    while((fprList[i]>fprFinal or tprList[i]<tprFinal) and i<maxStages):\n",
    "        prevtpr=tprList[i]\n",
    "        prevfpr=fprList[i]\n",
    "        i+=1\n",
    "        tprList[i]=prevtpr\n",
    "        fprList[i]=prevfpr\n",
    "        print(\"---------------------------------------------\")\n",
    "        print(\"Stage: \", i)\n",
    "        prevWeakClf=[]\n",
    "        \n",
    "        while((fprList[i]>fpr*prevfpr or tprList[i]<tpr*prevtpr) and numFeat[i]<10):\n",
    "            numFeat[i]+=1\n",
    "            print(\"Number of Features in Classifier: \", numFeat[i])\n",
    "            weakClf, th, weights = getAdaboostClassifier(yTrainCur, numFeat[i], removedIdx, usedFeatureIdx, prevWeakClf)\n",
    "            yPredTest = strong_classifier(weakClf, th, xTestCur, selectedFeatures, integral=True)\n",
    "            TP = len(np.where((yPredTest==1) & (yTestCur==1))[0])\n",
    "            FP = len(np.where((yPredTest==1) & (yTestCur==0))[0])\n",
    "            TN = len(np.where((yPredTest==0) & (yTestCur==0))[0])\n",
    "            FN = len(np.where((yPredTest==0) & (yTestCur==1))[0])\n",
    "            \n",
    "            tprList[i] = TP/(TP+FN)\n",
    "            fprList[i] = FP/(FP+TN)\n",
    "            print(f'curtpr: {tprList[i]}, curfpr: {fprList[i]}\\n\\n')\n",
    "            prevWeakClf= [weakClf, weights]\n",
    "            \n",
    "        removedIdx = testPrevCascadeClf(xTrainCur, yTrainCur, cascadedClf, alphaTh, selectedFeatures, removedIdx)\n",
    "        xTrainCur=np.delete(xTrainInt,removedIdx, axis=0)\n",
    "        yTrainCur=np.delete(yTrain,removedIdx, axis=0)\n",
    "        cascadedClf.append(weakClf)\n",
    "#         for feature in weakClf:\n",
    "#             usedFeatureIdx.append(feature[2])\n",
    "        alphaTh.append(th)\n",
    "    \n",
    "    return cascadedClf\n",
    "\n",
    "def testPrevCascadeClf(xInt, y, clfs, alphaThs, selectedFeatures, removedIdx):\n",
    "    clfCorrect=False\n",
    "    #remove if rejected (predicted as nonface i.e. ypred=0) by any one of the classifiers\n",
    "    #new neglist will contain negative examples classified positive (False Positives)\n",
    "    removeIdx=set(removedIdx)\n",
    "    negIdx=np.where(y==0)[0]\n",
    "    \n",
    "    for idx in negIdx:\n",
    "        img = xInt[idx]\n",
    "        img=np.expand_dims(img, axis=0)\n",
    "#         print(np.shape(img))\n",
    "        for clf, th in zip(clfs,alphaThs):\n",
    "            yPred = strong_classifier(clf, th, img, selectedFeatures, integral=True)\n",
    "            if(yPred==0):\n",
    "                clfCorrect=True\n",
    "                break\n",
    "        if(clfCorrect==True):\n",
    "            clfCorrect=False\n",
    "            removeIdx.add(idx)\n",
    "            \n",
    "    return list(removeIdx)"
   ]
  },
  {
   "cell_type": "code",
   "execution_count": 23,
   "metadata": {
    "scrolled": false
   },
   "outputs": [
    {
     "name": "stdout",
     "output_type": "stream",
     "text": [
      "---------------------------------------------\n",
      "Stage:  1\n",
      "Number of Features in Classifier:  1\n",
      "Iter 0: \n",
      "Correct predictions: 3483\n",
      "\n",
      "Alpha values: [1.9076063958575729]\n",
      "curtpr: 0.5911016949152542, curfpr: 0.225\n",
      "\n",
      "\n",
      "---------------------------------------------\n",
      "Stage:  2\n",
      "Number of Features in Classifier:  1\n",
      "Iter 0: \n",
      "Correct predictions: 3477\n",
      "\n",
      "Alpha values: [1.8943436679429393]\n",
      "curtpr: 0.5741525423728814, curfpr: 0.218\n",
      "\n",
      "\n",
      "Number of Features in Classifier:  2\n",
      "Iter 1: \n",
      "Correct predictions: 3390\n",
      "\n",
      "Alpha values: [1.8943436679429393, 1.5308058640562918]\n",
      "curtpr: 0.5741525423728814, curfpr: 0.218\n",
      "\n",
      "\n",
      "Number of Features in Classifier:  3\n",
      "Iter 2: \n",
      "Correct predictions: 3163\n",
      "\n",
      "Alpha values: [1.8943436679429393, 1.5308058640562918, 1.0648743976834303]\n",
      "curtpr: 0.3453389830508475, curfpr: 0.08433333333333333\n",
      "\n",
      "\n",
      "---------------------------------------------\n",
      "Stage:  3\n",
      "Number of Features in Classifier:  1\n",
      "Iter 0: \n",
      "Correct predictions: 1923\n",
      "\n",
      "Alpha values: [1.5835842647254739]\n",
      "curtpr: 0.2584745762711864, curfpr: 0.10766666666666666\n",
      "\n",
      "\n",
      "Number of Features in Classifier:  2\n",
      "Iter 1: \n",
      "Correct predictions: 1881\n",
      "\n",
      "Alpha values: [1.5835842647254739, 1.1946141667144061]\n",
      "curtpr: 0.2584745762711864, curfpr: 0.10766666666666666\n",
      "\n",
      "\n",
      "Number of Features in Classifier:  3\n",
      "Iter 2: \n",
      "Correct predictions: 1978\n",
      "\n",
      "Alpha values: [1.5835842647254739, 1.1946141667144061, 0.9570873517475604]\n",
      "curtpr: 0.2627118644067797, curfpr: 0.079\n",
      "\n",
      "\n",
      "Number of Features in Classifier:  4\n",
      "Iter 3: \n",
      "Correct predictions: 1406\n",
      "\n",
      "Alpha values: [1.5835842647254739, 1.1946141667144061, 0.9570873517475604, 0.9571920480058106]\n",
      "curtpr: 0.1906779661016949, curfpr: 0.054\n",
      "\n",
      "\n",
      "Number of Features in Classifier:  5\n",
      "Iter 4: \n",
      "Correct predictions: 1815\n",
      "\n",
      "Alpha values: [1.5835842647254739, 1.1946141667144061, 0.9570873517475604, 0.9571920480058106, 0.956088157363038]\n",
      "curtpr: 0.24364406779661016, curfpr: 0.061\n",
      "\n",
      "\n",
      "Number of Features in Classifier:  6\n",
      "Iter 5: \n",
      "Correct predictions: 1782\n",
      "\n",
      "Alpha values: [1.5835842647254739, 1.1946141667144061, 0.9570873517475604, 0.9571920480058106, 0.956088157363038, 0.6788744484213923]\n",
      "curtpr: 0.2584745762711864, curfpr: 0.059333333333333335\n",
      "\n",
      "\n",
      "Number of Features in Classifier:  7\n",
      "Iter 6: \n",
      "Correct predictions: 666\n",
      "\n",
      "Alpha values: [1.5835842647254739, 1.1946141667144061, 0.9570873517475604, 0.9571920480058106, 0.956088157363038, 0.6788744484213923, 0.6704857150621522]\n",
      "curtpr: 0.1864406779661017, curfpr: 0.06966666666666667\n",
      "\n",
      "\n",
      "Number of Features in Classifier:  8\n",
      "Iter 7: \n",
      "Correct predictions: 2004\n",
      "\n",
      "Alpha values: [1.5835842647254739, 1.1946141667144061, 0.9570873517475604, 0.9571920480058106, 0.956088157363038, 0.6788744484213923, 0.6704857150621522, 0.8175223020032063]\n",
      "curtpr: 0.288135593220339, curfpr: 0.077\n",
      "\n",
      "\n",
      "Number of Features in Classifier:  9\n",
      "Iter 8: \n",
      "Correct predictions: 542\n",
      "\n",
      "Alpha values: [1.5835842647254739, 1.1946141667144061, 0.9570873517475604, 0.9571920480058106, 0.956088157363038, 0.6788744484213923, 0.6704857150621522, 0.8175223020032063, 0.775546682002781]\n",
      "curtpr: 0.2542372881355932, curfpr: 0.06666666666666667\n",
      "\n",
      "\n",
      "Number of Features in Classifier:  10\n",
      "Iter 9: \n",
      "Correct predictions: 2055\n",
      "\n",
      "Alpha values: [1.5835842647254739, 1.1946141667144061, 0.9570873517475604, 0.9571920480058106, 0.956088157363038, 0.6788744484213923, 0.6704857150621522, 0.8175223020032063, 0.775546682002781, 0.8923317668168701]\n",
      "curtpr: 0.2690677966101695, curfpr: 0.058666666666666666\n",
      "\n",
      "\n"
     ]
    }
   ],
   "source": [
    "file = open('selectedFeatures.pickle', 'rb')\n",
    "selectedFeatures = pickle.load(file)\n",
    "file.close()\n",
    "\n",
    "cascadedClf = getCascadedClf(xTrainInt, yTrain, xTestInt, yTest, selectedFeatures, maxStages=3)"
   ]
  },
  {
   "cell_type": "code",
   "execution_count": 24,
   "metadata": {},
   "outputs": [
    {
     "name": "stdout",
     "output_type": "stream",
     "text": [
      "[[1, -1199.0, 1825, 1.9076063958575729]]\n",
      "[[1, -1166.0, 1781, 1.8943436679429393], [-1, 287.0, 2091, 1.5308058640562918], [-1, 46.0, 3099, 1.0648743976834303]]\n",
      "[[-1, 264.0, 2068, 1.5835842647254739], [-1, 23.0, 2652, 1.1946141667144061], [1, -90.0, 2217, 0.9570873517475604], [-1, 28.0, 1887, 0.9571920480058106], [-1, 163.0, 1552, 0.956088157363038], [-1, 84.0, 3100, 0.6788744484213923], [-1, -327.0, 4339, 0.6704857150621522], [1, -404.0, 4888, 0.8175223020032063], [1, -137.0, 1809, 0.775546682002781], [-1, 203.0, 2209, 0.8923317668168701]]\n"
     ]
    }
   ],
   "source": [
    "for strongClf in cascadedClf:\n",
    "    print(strongClf)"
   ]
  },
  {
   "cell_type": "code",
   "execution_count": 25,
   "metadata": {},
   "outputs": [],
   "source": [
    "def predictCascade(xTestInt, cascadedClf):\n",
    "#     TP, FN, FP, TN = 0, 0, 0, 0\n",
    "#     falsePos=[]\n",
    "    file = open('selectedFeatures.pickle', 'rb')\n",
    "    selectedFeatures = pickle.load(file)\n",
    "    file.close()\n",
    "\n",
    "    yPred=[]\n",
    "    for img in xTestInt:\n",
    "        img=np.expand_dims(img, axis=0)\n",
    "        for strongClf in cascadedClf:\n",
    "            alphaSum=0\n",
    "            for clf in strongClf:\n",
    "                alphaSum+=clf[3]\n",
    "            alphaTh=0.5*alphaSum\n",
    "            pred = strong_classifier(strongClf, alphaTh, img, selectedFeatures, integral=True)\n",
    "            if(pred==0):\n",
    "                break\n",
    "        yPred.append(pred)\n",
    "    return yPred"
   ]
  },
  {
   "cell_type": "markdown",
   "metadata": {},
   "source": [
    "### Predictions about the training dataset "
   ]
  },
  {
   "cell_type": "code",
   "execution_count": 26,
   "metadata": {},
   "outputs": [],
   "source": [
    "y_pred_train=predictCascade(xTrainInt, cascadedClf)"
   ]
  },
  {
   "cell_type": "markdown",
   "metadata": {
    "id": "AO5UagweIjtx"
   },
   "source": [
    "### Metrics for the training dataset"
   ]
  },
  {
   "cell_type": "code",
   "execution_count": 27,
   "metadata": {},
   "outputs": [
    {
     "name": "stdout",
     "output_type": "stream",
     "text": [
      "Accuracy score:\n",
      "0.9195\n"
     ]
    }
   ],
   "source": [
    "# print(np.sh)\n",
    "accuracy_train=metrics.accuracy_score(y_pred_train,yTrain)\n",
    "print(\"Accuracy score:\")\n",
    "print(accuracy_train)"
   ]
  },
  {
   "cell_type": "code",
   "execution_count": 28,
   "metadata": {
    "colab": {
     "base_uri": "https://localhost:8080/"
    },
    "id": "KntTseaN36xr",
    "outputId": "bcb448db-cd8d-4252-a3bc-88ee5aba4459"
   },
   "outputs": [
    {
     "name": "stdout",
     "output_type": "stream",
     "text": [
      "F1-Score:\n",
      "0.9198850939322113\n"
     ]
    }
   ],
   "source": [
    "f1_train=metrics.f1_score(y_pred_train,yTrain,average='weighted')\n",
    "print(\"F1-Score:\")\n",
    "print(f1_train)"
   ]
  },
  {
   "cell_type": "code",
   "execution_count": 29,
   "metadata": {
    "colab": {
     "base_uri": "https://localhost:8080/"
    },
    "id": "Daw8UkEq3xj6",
    "outputId": "426425ac-6e6e-4e13-c01d-30ad1f0ebfb6"
   },
   "outputs": [
    {
     "name": "stdout",
     "output_type": "stream",
     "text": [
      "Classification Report:\n",
      "              precision    recall  f1-score   support\n",
      "\n",
      "         0.0       0.99      0.87      0.92      2276\n",
      "         1.0       0.85      0.99      0.91      1724\n",
      "\n",
      "    accuracy                           0.92      4000\n",
      "   macro avg       0.92      0.93      0.92      4000\n",
      "weighted avg       0.93      0.92      0.92      4000\n",
      "\n"
     ]
    }
   ],
   "source": [
    "report_train=metrics.classification_report(y_pred_train,yTrain)\n",
    "print(\"Classification Report:\")\n",
    "print(report_train)"
   ]
  },
  {
   "cell_type": "code",
   "execution_count": 30,
   "metadata": {
    "colab": {
     "base_uri": "https://localhost:8080/"
    },
    "id": "XLT_DaEe5Gb5",
    "outputId": "2946b4be-50f2-4682-ac29-e21963bde384"
   },
   "outputs": [
    {
     "name": "stdout",
     "output_type": "stream",
     "text": [
      "Confusion Matrix:\n",
      "[[1977  299]\n",
      " [  23 1701]]\n"
     ]
    }
   ],
   "source": [
    "confusion_train=metrics.confusion_matrix(y_pred_train,yTrain)\n",
    "print(\"Confusion Matrix:\")\n",
    "print(confusion_train)"
   ]
  },
  {
   "cell_type": "markdown",
   "metadata": {
    "id": "xbleV8krIvKH"
   },
   "source": [
    "## Predictions about the test dataset "
   ]
  },
  {
   "cell_type": "code",
   "execution_count": 31,
   "metadata": {
    "id": "LwUvHwRoJeki"
   },
   "outputs": [],
   "source": [
    "y_pred_test =  predictCascade(xTestInt, cascadedClf)"
   ]
  },
  {
   "cell_type": "markdown",
   "metadata": {
    "id": "3RudHX9AI2w2"
   },
   "source": [
    "## Metrics for the test dataset"
   ]
  },
  {
   "cell_type": "code",
   "execution_count": 32,
   "metadata": {
    "colab": {
     "base_uri": "https://localhost:8080/"
    },
    "id": "X3H6E_FsJpcV",
    "outputId": "40357258-9fec-4bbd-aa2f-e7df83a854e0"
   },
   "outputs": [
    {
     "name": "stdout",
     "output_type": "stream",
     "text": [
      "Accuracy Score:\n",
      "0.8793202764976958\n"
     ]
    }
   ],
   "source": [
    "from sklearn import metrics\n",
    "accuracy_test=metrics.accuracy_score(y_pred_test,yTest)\n",
    "print(\"Accuracy Score:\")\n",
    "print(accuracy_test)"
   ]
  },
  {
   "cell_type": "code",
   "execution_count": 33,
   "metadata": {
    "colab": {
     "base_uri": "https://localhost:8080/"
    },
    "id": "SS5eRSLC2aaW",
    "outputId": "7b886d52-3045-48d3-a696-6a422f64bbac"
   },
   "outputs": [
    {
     "name": "stdout",
     "output_type": "stream",
     "text": [
      "F1-score:\n",
      "0.9120080947004234\n"
     ]
    }
   ],
   "source": [
    "f1_test=metrics.f1_score(y_pred_test,yTest,average='weighted')\n",
    "print(\"F1-score:\")\n",
    "print(f1_test)"
   ]
  },
  {
   "cell_type": "code",
   "execution_count": 34,
   "metadata": {
    "colab": {
     "base_uri": "https://localhost:8080/"
    },
    "id": "iGC7q7pz0lmN",
    "outputId": "84b69692-6579-4528-a1f7-896cf7f082bf"
   },
   "outputs": [
    {
     "name": "stdout",
     "output_type": "stream",
     "text": [
      "Classification Report:\n",
      "              precision    recall  f1-score   support\n",
      "\n",
      "         0.0       0.99      0.88      0.93      3353\n",
      "         1.0       0.18      0.72      0.29       119\n",
      "\n",
      "    accuracy                           0.88      3472\n",
      "   macro avg       0.59      0.80      0.61      3472\n",
      "weighted avg       0.96      0.88      0.91      3472\n",
      "\n"
     ]
    }
   ],
   "source": [
    "classification_test=metrics.classification_report(y_pred_test,yTest)\n",
    "print(\"Classification Report:\")\n",
    "print(classification_test)"
   ]
  },
  {
   "cell_type": "code",
   "execution_count": 35,
   "metadata": {
    "colab": {
     "base_uri": "https://localhost:8080/"
    },
    "id": "WDmcVFNU47Ql",
    "outputId": "22bbe152-9531-45fa-d98b-77d641837c6e"
   },
   "outputs": [
    {
     "name": "stdout",
     "output_type": "stream",
     "text": [
      "Confusion Matrix:\n",
      "[[2967  386]\n",
      " [  33   86]]\n"
     ]
    }
   ],
   "source": [
    "confusion_test=metrics.confusion_matrix(y_pred_test,yTest)\n",
    "print(\"Confusion Matrix:\")\n",
    "print(confusion_test)"
   ]
  },
  {
   "cell_type": "code",
   "execution_count": 36,
   "metadata": {
    "colab": {
     "base_uri": "https://localhost:8080/"
    },
    "id": "P15DkveO8vYs",
    "outputId": "c2582e0d-8c65-4823-cbc7-038a73f7b8ca"
   },
   "outputs": [
    {
     "name": "stdout",
     "output_type": "stream",
     "text": [
      "+------------------+--------------------+--------------------+\n",
      "|     Metrics      |  Training Dataset  |    Test Dataset    |\n",
      "+------------------+--------------------+--------------------+\n",
      "|  Accuracy score  |       0.9195       | 0.8793202764976958 |\n",
      "|     f1_score     | 0.9198850939322113 | 0.9120080947004234 |\n",
      "| confusion matrix |    [[1977  299]    |    [[2967  386]    |\n",
      "|                  |    [  23 1701]]    |    [  33   86]]    |\n",
      "+------------------+--------------------+--------------------+\n"
     ]
    }
   ],
   "source": [
    "from prettytable import PrettyTable\n",
    "opt=['Accuracy score','f1_score','confusion matrix']\n",
    "train=[accuracy_train,f1_train,confusion_train]\n",
    "test=[accuracy_test,f1_test,confusion_test]\n",
    "t=PrettyTable(['Metrics','Training Dataset','Test Dataset'])\n",
    "for i in range(3):\n",
    "    main=opt[i]\n",
    "    col1=train[i]\n",
    "    col2=test[i]\n",
    "    t.add_row([main,col1,col2])\n",
    "print(t)"
   ]
  },
  {
   "cell_type": "code",
   "execution_count": 37,
   "metadata": {
    "colab": {
     "base_uri": "https://localhost:8080/",
     "height": 265
    },
    "id": "U90avzLZ3Roh",
    "outputId": "5afc05a9-9b84-4d61-8d77-ac847cb18172"
   },
   "outputs": [
    {
     "data": {
      "image/png": "[encoded data removed]",
      "text/plain": [
       "<Figure size 432x288 with 2 Axes>"
      ]
     },
     "metadata": {
      "needs_background": "light"
     },
     "output_type": "display_data"
    }
   ],
   "source": [
    "import seaborn as sns\n",
    "sns.heatmap(confusion_train, annot=True, annot_kws={\"size\": 16}) \n",
    "plt.show()"
   ]
  },
  {
   "cell_type": "markdown",
   "metadata": {
    "id": "8V4qb_8sfc4e"
   },
   "source": [
    "## T=15\n"
   ]
  },
  {
   "cell_type": "code",
   "execution_count": 38,
   "metadata": {
    "colab": {
     "base_uri": "https://localhost:8080/"
    },
    "id": "9pwjE2zB6YAg",
    "outputId": "eadb24d1-d9be-4fe6-ded3-51e715a88ec7"
   },
   "outputs": [
    {
     "name": "stdout",
     "output_type": "stream",
     "text": [
      "Iter 0: \n",
      "Correct predictions: 3477\n",
      "\n",
      "Iter 1: \n",
      "Correct predictions: 3403\n",
      "\n",
      "Iter 2: \n",
      "Correct predictions: 3053\n",
      "\n",
      "Iter 3: \n",
      "Correct predictions: 3049\n",
      "\n",
      "Iter 4: \n",
      "Correct predictions: 3257\n",
      "\n",
      "Iter 5: \n",
      "Correct predictions: 3018\n",
      "\n",
      "Iter 6: \n",
      "Correct predictions: 2105\n",
      "\n",
      "Iter 7: \n",
      "Correct predictions: 2666\n",
      "\n",
      "Iter 8: \n",
      "Correct predictions: 3078\n",
      "\n",
      "Iter 9: \n",
      "Correct predictions: 1289\n",
      "\n",
      "Iter 10: \n",
      "Correct predictions: 3375\n",
      "\n",
      "Iter 11: \n",
      "Correct predictions: 2974\n",
      "\n",
      "Iter 12: \n",
      "Correct predictions: 1526\n",
      "\n",
      "Iter 13: \n",
      "Correct predictions: 2905\n",
      "\n",
      "Iter 14: \n",
      "Correct predictions: 2690\n",
      "\n",
      "Alpha values: [1.8943436679429393, 1.526931800211508, 0.9974674146078217, 1.037136312671882, 0.915874105496266, 0.7487004356391397, 0.8063364598090215, 0.6752056004912803, 0.7245283871394079, 0.6471656074968896, 0.7011987048581995, 0.6964088885206858, 0.5506671841588914, 0.6230442794589668, 0.5797668462886325]\n"
     ]
    }
   ],
   "source": [
    "weak_classifiers1,th1, weights = get_weak_classifier(yTrain, featureVals, T=15)"
   ]
  },
  {
   "cell_type": "markdown",
   "metadata": {
    "id": "k9sXvyvHgN0f"
   },
   "source": [
    "## Prediction of the training dataset"
   ]
  },
  {
   "cell_type": "code",
   "execution_count": 39,
   "metadata": {
    "id": "8wK_N_qbgN0l"
   },
   "outputs": [],
   "source": [
    "y_pred_train1 = strong_classifier(weak_classifiers1,th1,xTrain,selectedFeatures)"
   ]
  },
  {
   "cell_type": "markdown",
   "metadata": {
    "id": "Ko9E__wMgN0n"
   },
   "source": [
    "## Metrics for the training dataset"
   ]
  },
  {
   "cell_type": "code",
   "execution_count": 40,
   "metadata": {
    "colab": {
     "base_uri": "https://localhost:8080/"
    },
    "id": "cxNSxuWzgN0p",
    "outputId": "534880bd-799d-433e-c4bf-5243504b6c65"
   },
   "outputs": [
    {
     "name": "stdout",
     "output_type": "stream",
     "text": [
      "Accuracy score:\n",
      "0.9555\n"
     ]
    }
   ],
   "source": [
    "from sklearn import metrics\n",
    "accuracy_train1=metrics.accuracy_score(y_pred_train1,yTrain)\n",
    "print(\"Accuracy score:\")\n",
    "print(accuracy_train1)"
   ]
  },
  {
   "cell_type": "code",
   "execution_count": 41,
   "metadata": {
    "colab": {
     "base_uri": "https://localhost:8080/"
    },
    "id": "cLK-rcrVgN0s",
    "outputId": "87c27b28-7d4c-4633-8cac-b3c9061258e8"
   },
   "outputs": [
    {
     "name": "stdout",
     "output_type": "stream",
     "text": [
      "F1-Score:\n",
      "0.9555013461657216\n"
     ]
    }
   ],
   "source": [
    "f1_train1=metrics.f1_score(y_pred_train1,yTrain,average='weighted')\n",
    "print(\"F1-Score:\")\n",
    "print(f1_train1)"
   ]
  },
  {
   "cell_type": "code",
   "execution_count": 42,
   "metadata": {
    "colab": {
     "base_uri": "https://localhost:8080/"
    },
    "id": "23o22c2WgN0w",
    "outputId": "f164721e-b5ba-4420-9ce1-c8c16d560724"
   },
   "outputs": [
    {
     "name": "stdout",
     "output_type": "stream",
     "text": [
      "Classification Report:\n",
      "              precision    recall  f1-score   support\n",
      "\n",
      "         0.0       0.96      0.95      0.96      2022\n",
      "         1.0       0.95      0.96      0.96      1978\n",
      "\n",
      "    accuracy                           0.96      4000\n",
      "   macro avg       0.96      0.96      0.96      4000\n",
      "weighted avg       0.96      0.96      0.96      4000\n",
      "\n"
     ]
    }
   ],
   "source": [
    "report_train1=metrics.classification_report(y_pred_train1,yTrain)\n",
    "print(\"Classification Report:\")\n",
    "print(report_train1)"
   ]
  },
  {
   "cell_type": "code",
   "execution_count": 43,
   "metadata": {
    "colab": {
     "base_uri": "https://localhost:8080/"
    },
    "id": "qIZ8YOwmgN0y",
    "outputId": "ffcb4b0a-c89e-4959-8e28-3453f8e4472a"
   },
   "outputs": [
    {
     "name": "stdout",
     "output_type": "stream",
     "text": [
      "Confusion Matrix:\n",
      "[[1922  100]\n",
      " [  78 1900]]\n"
     ]
    }
   ],
   "source": [
    "confusion_train1=metrics.confusion_matrix(y_pred_train1,yTrain)\n",
    "print(\"Confusion Matrix:\")\n",
    "print(confusion_train1)"
   ]
  },
  {
   "cell_type": "markdown",
   "metadata": {
    "id": "BhTfKrq1gN00"
   },
   "source": [
    "## Predictions about the test dataset "
   ]
  },
  {
   "cell_type": "code",
   "execution_count": 44,
   "metadata": {
    "id": "YQqVlbX0gN01"
   },
   "outputs": [],
   "source": [
    "y_pred_test1 =  strong_classifier(weak_classifiers1,th1,xTest,selectedFeatures)"
   ]
  },
  {
   "cell_type": "markdown",
   "metadata": {
    "id": "xP7MqrcGgN03"
   },
   "source": [
    "## Metrics for the test dataset"
   ]
  },
  {
   "cell_type": "code",
   "execution_count": 45,
   "metadata": {
    "colab": {
     "base_uri": "https://localhost:8080/"
    },
    "id": "gOsh99UhgN04",
    "outputId": "f2c8d8ff-44ac-4875-e65a-2113e3529f28"
   },
   "outputs": [
    {
     "name": "stdout",
     "output_type": "stream",
     "text": [
      "Accuracy Score:\n",
      "0.8758640552995391\n"
     ]
    }
   ],
   "source": [
    "from sklearn import metrics\n",
    "accuracy_test1=metrics.accuracy_score(y_pred_test1,yTest)\n",
    "print(\"Accuracy Score:\")\n",
    "print(accuracy_test1)"
   ]
  },
  {
   "cell_type": "code",
   "execution_count": 46,
   "metadata": {
    "colab": {
     "base_uri": "https://localhost:8080/"
    },
    "id": "YNn9wuakgN06",
    "outputId": "16036ad8-0d45-40d5-88cf-5e28973f6b5b"
   },
   "outputs": [
    {
     "name": "stdout",
     "output_type": "stream",
     "text": [
      "F1-score:\n",
      "0.8984155588198033\n"
     ]
    }
   ],
   "source": [
    "f1_test1=metrics.f1_score(y_pred_test1,yTest,average='weighted')\n",
    "print(\"F1-score:\")\n",
    "print(f1_test1)"
   ]
  },
  {
   "cell_type": "code",
   "execution_count": 47,
   "metadata": {
    "colab": {
     "base_uri": "https://localhost:8080/"
    },
    "id": "2KpRXOsbgN08",
    "outputId": "9c76b4eb-c002-4afb-e7c2-ad08f608d90b"
   },
   "outputs": [
    {
     "name": "stdout",
     "output_type": "stream",
     "text": [
      "Classification Report:\n",
      "              precision    recall  f1-score   support\n",
      "\n",
      "         0.0       0.97      0.89      0.93      3273\n",
      "         1.0       0.25      0.60      0.36       199\n",
      "\n",
      "    accuracy                           0.88      3472\n",
      "   macro avg       0.61      0.75      0.64      3472\n",
      "weighted avg       0.93      0.88      0.90      3472\n",
      "\n"
     ]
    }
   ],
   "source": [
    "classification_test1=metrics.classification_report(y_pred_test1,yTest)\n",
    "print(\"Classification Report:\")\n",
    "print(classification_test1)"
   ]
  },
  {
   "cell_type": "code",
   "execution_count": 48,
   "metadata": {
    "colab": {
     "base_uri": "https://localhost:8080/"
    },
    "id": "vbbEDE-CgN0-",
    "outputId": "7e56b832-1654-45fa-ffbe-00c845f513a9"
   },
   "outputs": [
    {
     "name": "stdout",
     "output_type": "stream",
     "text": [
      "Confusion Matrix:\n",
      "[[2921  352]\n",
      " [  79  120]]\n"
     ]
    }
   ],
   "source": [
    "confusion_test1=metrics.confusion_matrix(y_pred_test1,yTest)\n",
    "print(\"Confusion Matrix:\")\n",
    "print(confusion_test1)"
   ]
  },
  {
   "cell_type": "code",
   "execution_count": 49,
   "metadata": {
    "colab": {
     "base_uri": "https://localhost:8080/"
    },
    "id": "i-t6t5tVgN1E",
    "outputId": "c8590024-1be4-47ea-cc9f-3f5308baff8d"
   },
   "outputs": [
    {
     "name": "stdout",
     "output_type": "stream",
     "text": [
      "+------------------+--------------------+--------------------+\n",
      "| Metrics for T=50 |  Training Dataset  |    Test Dataset    |\n",
      "+------------------+--------------------+--------------------+\n",
      "|  Accuracy score  |       0.9555       | 0.8758640552995391 |\n",
      "|     f1_score     | 0.9555013461657216 | 0.8984155588198033 |\n",
      "| confusion matrix |    [[1922  100]    |    [[2921  352]    |\n",
      "|                  |    [  78 1900]]    |    [  79  120]]    |\n",
      "+------------------+--------------------+--------------------+\n"
     ]
    }
   ],
   "source": [
    "from prettytable import PrettyTable\n",
    "opt=['Accuracy score','f1_score','confusion matrix']\n",
    "train=[accuracy_train1,f1_train1,confusion_train1]\n",
    "test=[accuracy_test1,f1_test1,confusion_test1]\n",
    "t=PrettyTable(['Metrics for T=50','Training Dataset','Test Dataset'])\n",
    "for i in range(3):\n",
    "    main=opt[i]\n",
    "    col1=train[i]\n",
    "    col2=test[i]\n",
    "    t.add_row([main,col1,col2])\n",
    "print(t)"
   ]
  },
  {
   "cell_type": "code",
   "execution_count": 175,
   "metadata": {
    "colab": {
     "base_uri": "https://localhost:8080/",
     "height": 265
    },
    "id": "NenfqMiF4fzI",
    "outputId": "15eb5c1a-b308-476a-e568-a95be03d0407"
   },
   "outputs": [
    {
     "data": {
      "image/png": "[encoded data removed]",
      "text/plain": [
       "<Figure size 432x288 with 2 Axes>"
      ]
     },
     "metadata": {
      "needs_background": "light"
     },
     "output_type": "display_data"
    }
   ],
   "source": [
    "import seaborn as sns\n",
    "sns.heatmap(confusion_train1, annot=True, annot_kws={\"size\": 16}) \n",
    "plt.show()"
   ]
  },
  {
   "cell_type": "code",
   "execution_count": 1,
   "metadata": {},
   "outputs": [],
   "source": [
    "#Train Adaboost classifier\n"
   ]
  }
 ],
 "metadata": {
  "colab": {
   "collapsed_sections": [],
   "name": "SMAI_Projectcode_new.ipynb",
   "provenance": [],
   "toc_visible": true
  },
  "kernelspec": {
   "display_name": "Python 3",
   "language": "python",
   "name": "python3"
  },
  "language_info": {
   "codemirror_mode": {
    "name": "ipython",
    "version": 3
   },
   "file_extension": ".py",
   "mimetype": "text/x-python",
   "name": "python",
   "nbconvert_exporter": "python",
   "pygments_lexer": "ipython3",
   "version": "3.8.5"
  }
 },
 "nbformat": 4,
 "nbformat_minor": 1
}
